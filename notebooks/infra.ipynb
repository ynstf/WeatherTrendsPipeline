{
 "cells": [
  {
   "cell_type": "code",
   "execution_count": 7,
   "metadata": {},
   "outputs": [],
   "source": [
    "from diagrams import Diagram, Cluster, Edge\n",
    "from diagrams.aws.compute import EC2\n",
    "from diagrams.aws.storage import S3\n",
    "from diagrams.aws.analytics import Quicksight\n",
    "from diagrams.custom import Custom\n",
    "from diagrams.generic.compute import Rack\n",
    "\n",
    "with Diagram(\"Weather Data ETL Architecture\", show=True, filename=\"weather_etl_with_timing\"):\n",
    "    # Custom Node for Weather API\n",
    "    weather_api = Custom(\"Weather API\", weather_api_logo)\n",
    "\n",
    "    # Group EC2 ETL Steps with description of timings\n",
    "    with Cluster(\"ETL Process on EC2\"):\n",
    "        fetch_data = EC2(\"Fetch Data\\n(every 4 min)\")  # Annotation for 4 min data fetch\n",
    "        transform_data = EC2(\"Transform & Upload\\n(at 00:00 midnight)\")\n",
    "        \n",
    "        # Represent Local Storage\n",
    "        local_storage = Rack(\"Local CSV Storage\")\n",
    "\n",
    "    # Amazon S3 Storage and QuickSight Visualization\n",
    "    s3_bucket = S3(\"\\nAmazon S3\\n(Transformed Data)\")\n",
    "    quicksight = Quicksight(\"\\nAmazon QuickSight\\n(Visualization)\")\n",
    "\n",
    "    # Connections\n",
    "    weather_api >> Edge(label=\"Weather Data\") >> fetch_data >> local_storage\n",
    "    local_storage >> Edge(label=\"Transform & Upload\") >> transform_data >> s3_bucket\n",
    "    s3_bucket >> Edge(label=\"Data Visualization\") >> quicksight"
   ]
  },
  {
   "cell_type": "code",
   "execution_count": null,
   "metadata": {},
   "outputs": [],
   "source": []
  }
 ],
 "metadata": {
  "kernelspec": {
   "display_name": "Python 3 (ipykernel)",
   "language": "python",
   "name": "python3"
  },
  "language_info": {
   "codemirror_mode": {
    "name": "ipython",
    "version": 3
   },
   "file_extension": ".py",
   "mimetype": "text/x-python",
   "name": "python",
   "nbconvert_exporter": "python",
   "pygments_lexer": "ipython3",
   "version": "3.9.12"
  }
 },
 "nbformat": 4,
 "nbformat_minor": 2
}
